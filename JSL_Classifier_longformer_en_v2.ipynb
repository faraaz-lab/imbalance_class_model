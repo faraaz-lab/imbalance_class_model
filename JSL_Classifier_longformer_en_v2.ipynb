import json, os

with open('jsl_license/spark_nlp_for_healthcare_spark_ocr_6151(1).json') as f:
    license_keys = json.load(f)

# Defining license key-value pairs as local variables
locals().update(license_keys)
os.environ.update(license_keys)

from pyspark.ml import Pipeline,PipelineModel
from pyspark.sql import SparkSession

import sparknlp_jsl
import sparknlp

from sparknlp.annotator import *
from sparknlp_jsl.annotator import *
from sparknlp.base import *

params = {"spark.driver.memory":"16G",
"spark.kryoserializer.buffer.max":"2000M",
"spark.driver.maxResultSize":"2000M"}

spark = sparknlp_jsl.start(license_keys['SECRET'],params=params)

print ("Spark NLP Version :", sparknlp.version())
print ("Spark NLP_JSL Version :", sparknlp_jsl.version())

spark

# if you want to start the session with custom params as in start function above
from pyspark.sql import SparkSession

def start(SECRET):
    builder = SparkSession.builder \
        .appName("Spark NLP Licensed") \
        .master("local[*]") \
        .config("spark.driver.memory", "16G") \
        .config("spark.serializer", "org.apache.spark.serializer.KryoSerializer") \
        .config("spark.kryoserializer.buffer.max", "2000M") \
        .config("spark.jars.packages", "com.johnsnowlabs.nlp:spark-nlp_2.12:"+PUBLIC_VERSION) \
        .config("spark.jars", "https://pypi.johnsnowlabs.com/"+SECRET+"/spark-nlp-jsl-"+JSL_VERSION+".jar")
      
    return builder.getOrCreate()

#spark = start(SECRET)


spark_df  = spark.read.option("header", True).csv("major_st_case_seriousness.csv",sep="|")
spark_df .show(truncate=50)

spark_df.count()

spark_df = spark_df.filter((spark_df.TEXTRACT_RAW_TEXT != ""))

spark_df.count()

(trainingData, testData) = spark_df.randomSplit([0.8, 0.2], seed = 42)

document_assembler = DocumentAssembler()\
    .setInputCol("TEXTRACT_RAW_TEXT")\
    .setOutputCol("document")

sbert_embedder = BertSentenceEmbeddings.pretrained('sbiobert_base_cased_mli', 'en','clinical/models')\
    .setInputCols(["document"])\
    .setOutputCol("sentence_embeddings")\
    .setMaxSentenceLength(512)\
    .setCaseSensitive(False)
#sequence to sequence models
classsifier_dl = ClassifierDLApproach()\
    .setInputCols(["sentence_embeddings"])\
    .setOutputCol("class")\
    .setLabelColumn("case_seriousness")\
    .setMaxEpochs(64)\
    .setBatchSize(8)\
    .setLr(0.0005)\
    .setDropout(0.3)\
    .setEnableOutputLogs(True)

bert_sent_clf_pipeline = Pipeline(
    stages = [
    document_assembler,
    sbert_embedder,
    classsifier_dl
])

%%time
bert_sent_pipelineModel = bert_sent_clf_pipeline.fit(trainingData)

from sklearn.metrics import confusion_matrix, classification_report, accuracy_score

preds_sbiobert_base_cased_mli = bert_sent_pipelineModel.transform(testData)

preds_df_sbiobert_base_cased_mli = preds_sbiobert_base_cased_mli.select("case_seriousness","TEXTRACT_RAW_TEXT","class.result").toPandas()

preds_df_sbiobert_base_cased_mli["result"] = preds_df_sbiobert_base_cased_mli["result"].apply(lambda x : x[0])

print (classification_report(preds_df_sbiobert_base_cased_mli["case_seriousness"], preds_df_sbiobert_base_cased_mli["result"]))

#Bert Sentence Embeddings(sent_biobert_clinical_base_cased)
document_assembler = DocumentAssembler()\
        .setInputCol("TEXTRACT_RAW_TEXT")\
        .setOutputCol("document")
        
bert_sent = BertSentenceEmbeddings.pretrained("sent_biobert_clinical_base_cased")\
      .setInputCols(["document"])\
      .setOutputCol("sentence_embeddings")

classsifier_dl = ClassifierDLApproach()\
      .setInputCols(["sentence_embeddings"])\
      .setOutputCol("class")\
      .setLabelColumn("case_seriousness")\
      .setMaxEpochs(128)\
      .setBatchSize(8)\
      .setEnableOutputLogs(True)\
      .setLr(0.0005)\
      .setDropout(0.2)

bert_sent_clf_pipeline_sent_biobert_clinical_base_cased = Pipeline(
    stages = [
        document_assembler,
        bert_sent,
        classsifier_dl
    ])

%%time
bert_sent_clf_pipeline_sent_biobert_clinical_base_cased = bert_sent_clf_pipeline_sent_biobert_clinical_base_cased.fit(trainingData)

from sklearn.metrics import confusion_matrix, classification_report, accuracy_score

preds_sent_biobert_clinical_base_cased = bert_sent_clf_pipeline_sent_biobert_clinical_base_cased.transform(testData)

preds_df_sent_biobert_clinical_base_cased = preds_sent_biobert_clinical_base_cased.select("case_seriousness","TEXTRACT_RAW_TEXT","class.result").toPandas()

preds_df_sent_biobert_clinical_base_cased["result"] = preds_df_sent_biobert_clinical_base_cased["result"].apply(lambda x : x[0])

print (classification_report(preds_df_sent_biobert_clinical_base_cased["case_seriousness"], preds_df_sent_biobert_clinical_base_cased["result"]))

"""Clinical Longformer Embeddings This embeddings model was imported from Hugging Face( link). Clinical-Longformer is a clinical knowledge enriched version of Longformer that was further pretrained using MIMIC-III clinical notes. It allows up to 4,096 tokens as the model input.
"""
document_assembler = DocumentAssembler()\
    .setInputCol("TEXTRACT_RAW_TEXT")\
    .setOutputCol("document")

tokenizer = Tokenizer()\
    .setInputCols(["document"])\
    .setOutputCol("token")

lf_embeddings = LongformerEmbeddings.pretrained("clinical_longformer", "en")\
  .setInputCols(["document", "token"])\
  .setOutputCol("embeddings")\
  .setCaseSensitive(False)\
  .setMaxSentenceLength(512)

embeddingsSentence = SentenceEmbeddings() \
    .setInputCols(["document", "embeddings"]) \
    .setOutputCol("sentence_embeddings") \
    .setPoolingStrategy("AVERAGE")

classifierdl = ClassifierDLApproach()\
    .setInputCols(["sentence_embeddings"])\
    .setOutputCol("class")\
    .setLabelColumn("case_seriousness")\
    .setBatchSize(8)\
    .setEnableOutputLogs(True)\
    .setMaxEpochs(64)\
    .setLr(0.003)\
    .setDropout(0.3)

lf_pipeline = Pipeline(
               stages = [
                    document_assembler,
                    tokenizer,
                    lf_embeddings,
                    embeddingsSentence,
                    classifierdl
               ])

%%time
lf_model = lf_pipeline.fit(trainingData)

from sklearn.metrics import confusion_matrix, classification_report, accuracy_score

preds_lf_model = lf_model.transform(testData)

preds_df_lf_model = preds_lf_model.select("case_seriousness","TEXTRACT_RAW_TEXT","class.result").toPandas()

preds_df_lf_model["result"] = preds_df_lf_model["result"].apply(lambda x : x[0])

print (classification_report(preds_df_lf_model["case_seriousness"], preds_df_lf_model["result"]))

